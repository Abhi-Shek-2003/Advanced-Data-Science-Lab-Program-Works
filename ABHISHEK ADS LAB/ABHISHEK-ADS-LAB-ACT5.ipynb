{
 "cells": [
  {
   "cell_type": "code",
   "execution_count": 8,
   "id": "73a7e1c3-fdf2-4525-81d8-21810e53fd22",
   "metadata": {},
   "outputs": [],
   "source": [
    "import pandas as pd\n",
    "import numpy as np"
   ]
  },
  {
   "cell_type": "code",
   "execution_count": 9,
   "id": "6acfe0e2-e607-40ca-9948-4ac0caaee4ae",
   "metadata": {},
   "outputs": [],
   "source": [
    "df = pd.read_csv('https://www.cs.odu.edu/~sampath/courses/f19/cs620/files/data/values.csv')"
   ]
  },
  {
   "cell_type": "code",
   "execution_count": 10,
   "id": "1aca00cc-66d5-46b3-9a5c-ab3cab21dc05",
   "metadata": {},
   "outputs": [
    {
     "data": {
      "text/plain": [
       "1.257142857142857"
      ]
     },
     "execution_count": 10,
     "metadata": {},
     "output_type": "execute_result"
    }
   ],
   "source": [
    "df['factor_1'].mean()"
   ]
  },
  {
   "cell_type": "code",
   "execution_count": 11,
   "id": "0bd1fb2b-f614-420a-93bf-b05e885fd2b2",
   "metadata": {},
   "outputs": [
    {
     "data": {
      "text/plain": [
       "0.0053363086938622885"
      ]
     },
     "execution_count": 11,
     "metadata": {},
     "output_type": "execute_result"
    }
   ],
   "source": [
    "df['factor_1'].std()"
   ]
  },
  {
   "cell_type": "code",
   "execution_count": null,
   "id": "6cb5eecb-0465-4bae-bb77-d83f0fc03515",
   "metadata": {},
   "outputs": [],
   "source": []
  }
 ],
 "metadata": {
  "kernelspec": {
   "display_name": "Python 3 (ipykernel)",
   "language": "python",
   "name": "python3"
  },
  "language_info": {
   "codemirror_mode": {
    "name": "ipython",
    "version": 3
   },
   "file_extension": ".py",
   "mimetype": "text/x-python",
   "name": "python",
   "nbconvert_exporter": "python",
   "pygments_lexer": "ipython3",
   "version": "3.11.5"
  }
 },
 "nbformat": 4,
 "nbformat_minor": 5
}
