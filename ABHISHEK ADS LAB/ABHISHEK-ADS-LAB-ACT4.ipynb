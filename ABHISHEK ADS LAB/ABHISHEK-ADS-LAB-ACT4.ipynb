{
 "cells": [
  {
   "cell_type": "code",
   "execution_count": 10,
   "metadata": {},
   "outputs": [],
   "source": [
    "import pandas as pd\n",
    "import numpy as np\n",
    "import random\n",
    "from pandas import Series, DataFrame"
   ]
  },
  {
   "cell_type": "code",
   "execution_count": 11,
   "metadata": {},
   "outputs": [],
   "source": [
    "random_integers = [random.randint(1,100) for _ in range(10)]"
   ]
  },
  {
   "cell_type": "code",
   "execution_count": 12,
   "metadata": {},
   "outputs": [],
   "source": [
    "series = pd.Series(random_integers,index=range(1,11),name=\"Random Numbers\")"
   ]
  },
  {
   "cell_type": "code",
   "execution_count": 13,
   "metadata": {},
   "outputs": [],
   "source": [
    "series.index.name=\"idx\""
   ]
  },
  {
   "cell_type": "code",
   "execution_count": 14,
   "metadata": {},
   "outputs": [],
   "source": [
    "squared_series = series.apply(lambda x: x**2)"
   ]
  },
  {
   "cell_type": "code",
   "execution_count": 17,
   "metadata": {},
   "outputs": [
    {
     "name": "stdout",
     "output_type": "stream",
     "text": [
      "last 4 items of squared series:\n",
      "idx\n",
      "7       25\n",
      "8     6084\n",
      "9      576\n",
      "10       1\n",
      "Name: Random Numbers, dtype: int64\n"
     ]
    }
   ],
   "source": [
    "print(\"last 4 items of squared series:\")\n",
    "print(squared_series.tail(4))"
   ]
  },
  {
   "cell_type": "code",
   "execution_count": 18,
   "metadata": {},
   "outputs": [
    {
     "name": "stdout",
     "output_type": "stream",
     "text": [
      "\n",
      " NUmbers > 500 as a list :\n",
      "[4096, 9801, 529, 2704, 3481, 900, 6084, 576]\n"
     ]
    }
   ],
   "source": [
    "numbers_gt_500 = squared_series[squared_series > 500].tolist()\n",
    "print(\"\\n NUmbers > 500 as a list :\")\n",
    "print(numbers_gt_500)"
   ]
  },
  {
   "cell_type": "code",
   "execution_count": null,
   "metadata": {},
   "outputs": [],
   "source": []
  }
 ],
 "metadata": {
  "kernelspec": {
   "display_name": "Python 3 (ipykernel)",
   "language": "python",
   "name": "python3"
  },
  "language_info": {
   "codemirror_mode": {
    "name": "ipython",
    "version": 3
   },
   "file_extension": ".py",
   "mimetype": "text/x-python",
   "name": "python",
   "nbconvert_exporter": "python",
   "pygments_lexer": "ipython3",
   "version": "3.11.5"
  }
 },
 "nbformat": 4,
 "nbformat_minor": 4
}
